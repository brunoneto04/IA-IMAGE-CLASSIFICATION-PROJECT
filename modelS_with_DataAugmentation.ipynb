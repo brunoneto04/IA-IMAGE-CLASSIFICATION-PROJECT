{
 "cells": [
  {
   "cell_type": "code",
   "execution_count": null,
   "metadata": {},
   "outputs": [],
   "source": [
    "import tensorflow as tf\n",
    "from tensorflow.keras import datasets\n",
    "from tensorflow.keras.models import Sequential\n",
    "from tensorflow.keras import layers"
   ]
  },
  {
   "cell_type": "code",
   "execution_count": null,
   "metadata": {},
   "outputs": [],
   "source": [
    "import os, shutil\n",
    "train_dir = 'cats_and_dogs_small/train'\n",
    "validation_dir = 'cats_and_dogs_small/validation'\n",
    "test_dir = 'cats_and_dogs_small/test'\n",
    "train_cats_dir = 'cats_and_dogs_small/train/cats'\n",
    "train_dogs_dir = 'cats_and_dogs_small/train/dogs'\n",
    "val_cats_dir = 'cats_and_dogs_small/validation/cats'\n",
    "val_dogs_dir = 'cats_and_dogs_small/validation/dogs'\n",
    "test_cats_dir = 'cats_and_dogs_small/test/cats'\n",
    "test_dogs_dir = 'cats_and_dogs_small/test/dogs'\n",
    "print('total training cat images:', len(os.listdir(train_cats_dir)))\n",
    "print('total training dog images:', len(os.listdir(train_dogs_dir)))\n",
    "print('total validation cat images:', len(os.listdir(val_cats_dir)))\n",
    "print('total validation dog images:', len(os.listdir(val_dogs_dir)))\n",
    "print('total testing cat images:', len(os.listdir(test_cats_dir)))\n",
    "print('total testing dog images:', len(os.listdir(test_dogs_dir)))"
   ]
  }
 ],
 "metadata": {
  "language_info": {
   "name": "python"
  }
 },
 "nbformat": 4,
 "nbformat_minor": 2
}
